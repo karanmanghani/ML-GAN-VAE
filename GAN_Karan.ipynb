{
  "nbformat": 4,
  "nbformat_minor": 0,
  "metadata": {
    "colab": {
      "name": "GAN-Karan.ipynb",
      "provenance": []
    },
    "kernelspec": {
      "name": "python3",
      "display_name": "Python 3"
    }
  },
  "cells": [
    {
      "cell_type": "code",
      "metadata": {
        "id": "dVQx890NgwmV"
      },
      "source": [
        "import tensorflow as tf\r\n",
        "tf.__version__\r\n",
        "'2.3.0'\r\n",
        "!pip install -q imageio\r\n",
        "!pip install -q git+https://github.com/tensorflow/docs\r\n",
        "import glob\r\n",
        "import imageio\r\n",
        "import matplotlib.pyplot as plt\r\n",
        "import os\r\n",
        "import PIL\r\n",
        "from tensorflow.keras import layers\r\n",
        "import time\r\n",
        "\r\n",
        "from IPython import display"
      ],
      "execution_count": null,
      "outputs": []
    },
    {
      "cell_type": "code",
      "metadata": {
        "id": "p-b5_ChIg5uf"
      },
      "source": [
        "(train_images,train_labels), (_, _) = tf.keras.datasets.mnist.load_data()\r\n",
        "train_images = train_images[0:60000]\r\n",
        "train_images = train_images.reshape(train_images.shape[0],28,28,1).astype('float32')\r\n",
        "train_images = (train_images - 127.5)/127.5\r\n",
        "BUFFER_SIZE = 60000\r\n",
        "BATCH_SIZE = 256\r\n",
        "train_dataset = tf.data.Dataset.from_tensor_slices(train_images).shuffle(BUFFER_SIZE).batch(BATCH_SIZE)"
      ],
      "execution_count": null,
      "outputs": []
    },
    {
      "cell_type": "code",
      "metadata": {
        "id": "iIhMmIswg7gt"
      },
      "source": [
        "def make_generator_model():\r\n",
        "  model = tf.keras.Sequential()\r\n",
        "  model.add(layers.Dense(7*7*256,use_bias = False,input_shape = (100,)))\r\n",
        "  model.add(layers.BatchNormalization())\r\n",
        "  model.add(layers.LeakyReLU())\r\n",
        "\r\n",
        "  model.add(layers.Reshape((7,7,256)))\r\n",
        "  assert model.output_shape == (None,7,7,256)\r\n",
        "  \r\n",
        "  model.add(layers.Conv2DTranspose(128,(5,5),strides=(1,1),padding='same',use_bias=False))\r\n",
        "  assert model.output_shape == (None,7,7,128)\r\n",
        "  model.add(layers.BatchNormalization())\r\n",
        "  model.add(layers.LeakyReLU())\r\n",
        "\r\n",
        "  model.add(layers.Conv2DTranspose(64,(5,5),strides=(2,2),padding='same',use_bias=False))\r\n",
        "  assert model.output_shape == (None,14,14,64)\r\n",
        "  model.add(layers.BatchNormalization())\r\n",
        "  model.add(layers.LeakyReLU())\r\n",
        "\r\n",
        "  model.add(layers.Conv2DTranspose(1,(5,5),strides=(2,2),padding='same',use_bias=False,activation='tanh'))\r\n",
        "  assert model.output_shape == (None,28,28,1)\r\n",
        "\r\n",
        "  return model"
      ],
      "execution_count": null,
      "outputs": []
    },
    {
      "cell_type": "code",
      "metadata": {
        "id": "KzJbmphGg81H"
      },
      "source": [
        "generator = make_generator_model()\r\n",
        "noise = tf.random.normal([1, 100])\r\n",
        "generated_image = generator(noise,training = False)\r\n",
        "\r\n",
        "plt.imshow(generated_image[0, :, :, 0],cmap = 'gray')"
      ],
      "execution_count": null,
      "outputs": []
    },
    {
      "cell_type": "code",
      "metadata": {
        "id": "LQ6aiTidg9tx"
      },
      "source": [
        "def make_discriminator_model():\r\n",
        "  model = tf.keras.Sequential()\r\n",
        "  model.add(layers.Conv2D(64,(5,5),strides=(2,2),padding='same',input_shape = [28,28,1]))\r\n",
        "\r\n",
        "  model.add(layers.LeakyReLU())\r\n",
        "  model.add(layers.Dropout(0.3))\r\n",
        "\r\n",
        "  model.add(layers.Conv2D(128,(5,5),strides=(2,2),padding='same'))\r\n",
        "  model.add(layers.LeakyReLU())\r\n",
        "  model.add(layers.Dropout(0.3))\r\n",
        "\r\n",
        "  model.add(layers.Flatten())\r\n",
        "  model.add(layers.Dense(1))\r\n",
        "\r\n",
        "  return model"
      ],
      "execution_count": null,
      "outputs": []
    },
    {
      "cell_type": "code",
      "metadata": {
        "id": "aCUcjllNhAIx"
      },
      "source": [
        "discriminator = make_discriminator_model()\r\n",
        "decision = discriminator(generated_image)\r\n",
        "print (decision)"
      ],
      "execution_count": null,
      "outputs": []
    },
    {
      "cell_type": "code",
      "metadata": {
        "id": "1yXoGDgvhBG9"
      },
      "source": [
        "cross_entropy = tf.keras.losses.BinaryCrossentropy(from_logits=True)"
      ],
      "execution_count": null,
      "outputs": []
    },
    {
      "cell_type": "code",
      "metadata": {
        "id": "W6Z8GyGthDm4"
      },
      "source": [
        "def discriminator_loss(real_output,fake_output):\r\n",
        "  real_loss = cross_entropy(tf.ones_like(real_output),real_output)\r\n",
        "  fake_loss = cross_entropy(tf.zeros_like(fake_output),fake_output)\r\n",
        "  total_loss = real_loss + fake_loss\r\n",
        "  return total_loss"
      ],
      "execution_count": null,
      "outputs": []
    },
    {
      "cell_type": "code",
      "metadata": {
        "id": "rNnA6_rmhGSh"
      },
      "source": [
        "def generator_loss(fake_output):\r\n",
        "  return cross_entropy(tf.ones_like(fake_output),fake_output)"
      ],
      "execution_count": null,
      "outputs": []
    },
    {
      "cell_type": "code",
      "metadata": {
        "id": "EFJ0wPavhH29"
      },
      "source": [
        "generator_optimizer = tf.keras.optimizers.Adam(1e-4)\r\n",
        "discriminator_optimizer = tf.keras.optimizers.Adam(1e-4)"
      ],
      "execution_count": null,
      "outputs": []
    },
    {
      "cell_type": "code",
      "metadata": {
        "id": "ayAaU6SOhJgR"
      },
      "source": [
        "checkpoint_dir = 'drive/My Drive/MLKaran/GAN/training_checkpoints'\r\n",
        "checkpoint_prefix = os.path.join(checkpoint_dir,\"ckpt\")\r\n",
        "checkpoint = tf.train.Checkpoint(generator_optimizer = generator_optimizer,\r\n",
        "                                 discriminator_optimizer = discriminator_optimizer,\r\n",
        "                                 generator = generator,\r\n",
        "                                 discriminator = discriminator)"
      ],
      "execution_count": null,
      "outputs": []
    },
    {
      "cell_type": "code",
      "metadata": {
        "id": "hAewr45Eh6m9"
      },
      "source": [
        "EPOCHS = 50\r\n",
        "noise_dim = 100\r\n",
        "num_examples_to_generate = 16\r\n",
        "seed = tf.random.normal([num_examples_to_generate,noise_dim])"
      ],
      "execution_count": null,
      "outputs": []
    },
    {
      "cell_type": "code",
      "metadata": {
        "id": "KmecjfIkh7xE"
      },
      "source": [
        "@tf.function\r\n",
        "def train_step(images):\r\n",
        "  noise = tf.random.normal([BATCH_SIZE,noise_dim])\r\n",
        "\r\n",
        "  with tf.GradientTape() as gen_tape, tf.GradientTape() as disc_tape:\r\n",
        "    generated_images = generator(noise,training = True)\r\n",
        "\r\n",
        "    real_output = discriminator(images,training = True)\r\n",
        "    fake_output = discriminator(generated_images,training = True)\r\n",
        "\r\n",
        "    gen_loss = generator_loss(fake_output)\r\n",
        "    disc_loss = discriminator_loss(real_output,fake_output)\r\n",
        "\r\n",
        "    gradients_of_generator = gen_tape.gradient(gen_loss,generator.trainable_variables)\r\n",
        "    gradients_of_discriminator = disc_tape.gradient(disc_loss,discriminator.trainable_variables)\r\n",
        "\r\n",
        "    generator_optimizer.apply_gradients(zip(gradients_of_generator,generator.trainable_variables))\r\n",
        "    discriminator_optimizer.apply_gradients(zip(gradients_of_discriminator,discriminator.trainable_variables))"
      ],
      "execution_count": null,
      "outputs": []
    },
    {
      "cell_type": "code",
      "metadata": {
        "id": "mHt9rNNih-mf"
      },
      "source": [
        "@tf.function\r\n",
        "def train_step(images):\r\n",
        "  noise = tf.random.normal([BATCH_SIZE,noise_dim])\r\n",
        "\r\n",
        "  with tf.GradientTape() as gen_tape, tf.GradientTape() as disc_tape:\r\n",
        "    generated_images = generator(noise,training = True)\r\n",
        "\r\n",
        "    real_output = discriminator(images,training = True)\r\n",
        "    fake_output = discriminator(generated_images,training = True)\r\n",
        "\r\n",
        "    gen_loss = generator_loss(fake_output)\r\n",
        "    disc_loss = discriminator_loss(real_output,fake_output)\r\n",
        "\r\n",
        "    gradients_of_generator = gen_tape.gradient(gen_loss,generator.trainable_variables)\r\n",
        "    gradients_of_discriminator = disc_tape.gradient(disc_loss,discriminator.trainable_variables)\r\n",
        "\r\n",
        "    generator_optimizer.apply_gradients(zip(gradients_of_generator,generator.trainable_variables))\r\n",
        "    discriminator_optimizer.apply_gradients(zip(gradients_of_discriminator,discriminator.trainable_variables))"
      ],
      "execution_count": null,
      "outputs": []
    },
    {
      "cell_type": "code",
      "metadata": {
        "id": "dU6_Eu-miBb3"
      },
      "source": [
        "def train(dataset,epochs):\r\n",
        "  for epoch in range(epochs):\r\n",
        "    start = time.time()\r\n",
        "\r\n",
        "    for image_batch in dataset:\r\n",
        "      train_step(image_batch)\r\n",
        "\r\n",
        "    display.clear_output(wait=True)\r\n",
        "    generate_and_save_images(generator,\r\n",
        "                             epoch + 1,\r\n",
        "                             seed)\r\n",
        "    if (epoch + 1) % 15 == 0:\r\n",
        "      checkpoint.save(file_prefix=checkpoint_prefix)\r\n",
        "\r\n",
        "    print ('Time for epoch {} is {} sec'.format(epoch + 1,time.time() - start))\r\n",
        "\r\n",
        "    display.clear_output(wait=True)\r\n",
        "    generate_and_save_images(generator,\r\n",
        "                             epochs,\r\n",
        "                             seed)"
      ],
      "execution_count": null,
      "outputs": []
    },
    {
      "cell_type": "code",
      "metadata": {
        "id": "lbsyh6hOiC-u"
      },
      "source": [
        "def generate_and_save_images(model,epoch,test_input):\r\n",
        "  predictions = model(test_input, training = False)\r\n",
        "\r\n",
        "  fig = plt.figure(figsize=(4,4))\r\n",
        "\r\n",
        "  for i in range(predictions.shape[0]):\r\n",
        "    plt.subplot(4,4,i+1)\r\n",
        "    plt.imshow(predictions[i, :, :, 0] * 127.5 + 127.5,cmap = 'gray')\r\n",
        "    plt.axis('off')\r\n",
        "\r\n",
        "  plt.savefig('drive/My Drive/MLKaran/GAN/image_at_epoch_{:04d}.png'.format(epoch))\r\n",
        "  plt.show()"
      ],
      "execution_count": null,
      "outputs": []
    },
    {
      "cell_type": "code",
      "metadata": {
        "id": "mAsU_tQ8iEyl"
      },
      "source": [
        "train(train_dataset,EPOCHS)"
      ],
      "execution_count": null,
      "outputs": []
    },
    {
      "cell_type": "code",
      "metadata": {
        "id": "kqo9wfMJiGPt"
      },
      "source": [
        "checkpoint.restore(tf.train.latest_checkpoint(checkpoint_dir))"
      ],
      "execution_count": null,
      "outputs": []
    },
    {
      "cell_type": "code",
      "metadata": {
        "id": "kk63ewmoiHgT"
      },
      "source": [
        "def display_image(epoch_no):\r\n",
        "  return PIL.Image.open('drive/My Drive/MLKaran/GAN/image_at_epoch_{:04d}.png'.format(epoch_no))\r\n",
        "  display_image(EPOCHS)"
      ],
      "execution_count": null,
      "outputs": []
    },
    {
      "cell_type": "code",
      "metadata": {
        "id": "FXcdkd7ViIsA"
      },
      "source": [
        "anim_file = 'dcgan.gif'\r\n",
        "\r\n",
        "with imageio.get_writer(anim_file,mode = 'I') as writer:\r\n",
        "  filenames = glob.glob('drive/My Drive/MLKaran/GAN/image*.png')\r\n",
        "  filenames = sorted(filenames)\r\n",
        "  for filename in filenames:\r\n",
        "    image = imageio.imread(filename)\r\n",
        "    writer.append_data(image)\r\n",
        "  image = imageio.imread(filename)\r\n",
        "  writer.append_data(image)"
      ],
      "execution_count": null,
      "outputs": []
    },
    {
      "cell_type": "code",
      "metadata": {
        "id": "UOpi0J1eiJ-_"
      },
      "source": [
        "import tensorflow_docs.vis.embed as embed\r\n",
        "embed.embed_file(anim_file)"
      ],
      "execution_count": null,
      "outputs": []
    }
  ]
}