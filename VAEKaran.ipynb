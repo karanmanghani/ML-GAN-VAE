{
  "nbformat": 4,
  "nbformat_minor": 0,
  "metadata": {
    "colab": {
      "name": "VAEKaran.ipynb",
      "provenance": [],
      "collapsed_sections": []
    },
    "kernelspec": {
      "name": "python3",
      "display_name": "Python 3"
    }
  },
  "cells": [
    {
      "cell_type": "code",
      "metadata": {
        "id": "k4MrITrLiwfj"
      },
      "source": [
        "!pip install -q tensorflow-probability\r\n",
        "!pip install -q imageio\r\n",
        "!pip install -q git+https://github.com/tensorflow/docs"
      ],
      "execution_count": null,
      "outputs": []
    },
    {
      "cell_type": "code",
      "metadata": {
        "id": "d3FjzEBb1dug"
      },
      "source": [
        "from IPython import display\n",
        "\n",
        "import glob\n",
        "import imageio\n",
        "import matplotlib.pyplot as plt\n",
        "import numpy as np\n",
        "import PIL\n",
        "import tensorflow as tf\n",
        "import tensorflow_probability as tfp\n",
        "import time"
      ],
      "execution_count": null,
      "outputs": []
    },
    {
      "cell_type": "code",
      "metadata": {
        "id": "d-s3rujDi6Wr"
      },
      "source": [
        "(train_images, _),(test_images, _) = tf.keras.datasets.mnist.load_data()\r\n",
        "train_images = train_images[0:60000]\r\n",
        "def preprocess_images(images):\r\n",
        "  images = images.reshape((images.shape[0],28,28,1))/255.\r\n",
        "  return np.where(images > .5,1.0,0.0).astype('float32')\r\n",
        "\r\n",
        "train_images = preprocess_images(train_images)\r\n",
        "test_images = preprocess_images(test_images)\r\n",
        "\r\n",
        "train_size = 60000\r\n",
        "batch_size = 32\r\n",
        "test_size = 10000"
      ],
      "execution_count": null,
      "outputs": []
    },
    {
      "cell_type": "code",
      "metadata": {
        "id": "CF20LQSPi8ft"
      },
      "source": [
        "train_dataset = tf.data.Dataset.from_tensor_slices(train_images).shuffle(train_size).batch(batch_size)\r\n",
        "test_dataset = tf.data.Dataset.from_tensor_slices(test_images).shuffle(test_size).batch(batch_size)                "
      ],
      "execution_count": null,
      "outputs": []
    },
    {
      "cell_type": "code",
      "metadata": {
        "id": "uAIWeZTxi9wy"
      },
      "source": [
        "class CVAE(tf.keras.Model):\r\n",
        "  def __init__(self, latent_dim):\r\n",
        "    super(CVAE, self).__init__()\r\n",
        "    self.latent_dim = latent_dim\r\n",
        "    self.encoder = tf.keras.Sequential(\r\n",
        "        [\r\n",
        "            tf.keras.layers.InputLayer(input_shape=(28, 28, 1)),\r\n",
        "            tf.keras.layers.Conv2D(\r\n",
        "                filters=32, kernel_size=3, strides=(2, 2), activation='relu'),\r\n",
        "            tf.keras.layers.Conv2D(\r\n",
        "                filters=64, kernel_size=3, strides=(2, 2), activation='relu'),\r\n",
        "            tf.keras.layers.Flatten(),\r\n",
        "            # No activation\r\n",
        "            tf.keras.layers.Dense(latent_dim + latent_dim),\r\n",
        "        ]\r\n",
        "    )\r\n",
        "\r\n",
        "    self.decoder = tf.keras.Sequential(\r\n",
        "        [\r\n",
        "            tf.keras.layers.InputLayer(input_shape=(latent_dim,)),\r\n",
        "            tf.keras.layers.Dense(units=7*7*32, activation=tf.nn.relu),\r\n",
        "            tf.keras.layers.Reshape(target_shape=(7, 7, 32)),\r\n",
        "            tf.keras.layers.Conv2DTranspose(\r\n",
        "                filters=64, kernel_size=3, strides=2, padding='same',\r\n",
        "                activation='relu'),\r\n",
        "            tf.keras.layers.Conv2DTranspose(\r\n",
        "                filters=32, kernel_size=3, strides=2, padding='same',\r\n",
        "                activation='relu'),\r\n",
        "            # No activation\r\n",
        "            tf.keras.layers.Conv2DTranspose(\r\n",
        "                filters=1, kernel_size=3, strides=1, padding='same'),\r\n",
        "        ]\r\n",
        "    )\r\n",
        "\r\n",
        "  @tf.function\r\n",
        "  def sample(self, eps=None):\r\n",
        "    if eps is None:\r\n",
        "      eps = tf.random.normal(shape=(100, self.latent_dim))\r\n",
        "    return self.decode(eps, apply_sigmoid=True)\r\n",
        "\r\n",
        "  def encode(self, x):\r\n",
        "    mean, logvar = tf.split(self.encoder(x), num_or_size_splits=2, axis=1)\r\n",
        "    return mean, logvar\r\n",
        "\r\n",
        "  def reparameterize(self, mean, logvar):\r\n",
        "    eps = tf.random.normal(shape=mean.shape)\r\n",
        "    return eps * tf.exp(logvar * .5) + mean\r\n",
        "\r\n",
        "  def decode(self, z, apply_sigmoid=False):\r\n",
        "    logits = self.decoder(z)\r\n",
        "    if apply_sigmoid:\r\n",
        "      probs = tf.sigmoid(logits)\r\n",
        "      return probs\r\n",
        "    return logits"
      ],
      "execution_count": null,
      "outputs": []
    },
    {
      "cell_type": "code",
      "metadata": {
        "id": "KNHF1e1Xi_DZ"
      },
      "source": [
        "optimizer = tf.keras.optimizers.Adam(1e-4)\r\n",
        "\r\n",
        "\r\n",
        "def log_normal_pdf(sample, mean, logvar, raxis=1):\r\n",
        "  log2pi = tf.math.log(2. * np.pi)\r\n",
        "  return tf.reduce_sum(\r\n",
        "      -.5 * ((sample - mean) ** 2. * tf.exp(-logvar) + logvar + log2pi),\r\n",
        "      axis=raxis)\r\n",
        "\r\n",
        "\r\n",
        "def compute_loss(model, x):\r\n",
        "  mean, logvar = model.encode(x)\r\n",
        "  z = model.reparameterize(mean, logvar)\r\n",
        "  x_logit = model.decode(z)\r\n",
        "  cross_ent = tf.nn.sigmoid_cross_entropy_with_logits(logits=x_logit, labels=x)\r\n",
        "  logpx_z = -tf.reduce_sum(cross_ent, axis=[1, 2, 3])\r\n",
        "  logpz = log_normal_pdf(z, 0., 0.)\r\n",
        "  logqz_x = log_normal_pdf(z, mean, logvar)\r\n",
        "  return -tf.reduce_mean(logpx_z + logpz - logqz_x)\r\n",
        "\r\n",
        "\r\n",
        "@tf.function\r\n",
        "def train_step(model, x, optimizer):\r\n",
        "\r\n",
        "  with tf.GradientTape() as tape:\r\n",
        "    loss = compute_loss(model, x)\r\n",
        "  gradients = tape.gradient(loss, model.trainable_variables)\r\n",
        "  optimizer.apply_gradients(zip(gradients, model.trainable_variables))"
      ],
      "execution_count": null,
      "outputs": []
    },
    {
      "cell_type": "code",
      "metadata": {
        "id": "FvYHLhSyjAKd"
      },
      "source": [
        "epochs = 200\r\n",
        "latent_dim = 2\r\n",
        "num_examples_to_generate = 16\r\n",
        "\r\n",
        "random_vector_for_generation = tf.random.normal(\r\n",
        "    shape = [num_examples_to_generate,latent_dim])\r\n",
        "model = CVAE(latent_dim)"
      ],
      "execution_count": null,
      "outputs": []
    },
    {
      "cell_type": "code",
      "metadata": {
        "id": "QpyqDfWeeXLq"
      },
      "source": [
        "def generate_and_save_images(model,epoch,test_sample):\n",
        "  mean,logvar = model.encode(test_sample)\n",
        "  z = model.reparameterize(mean,logvar)\n",
        "  predictions = model.sample(z)\n",
        "  fig = plt.figure(figsize=(4,4))\n",
        "\n",
        "  for i in range(predictions.shape[0]):\n",
        "    plt.subplot(4,4,i+1)\n",
        "    plt.imshow(predictions[i,:,:,0],cmap='gray')\n",
        "    plt.axis('off')\n",
        "\n",
        "  plt.savefig('drive/My Drive/MLKaran/VAE/image_at_epoch_{:04d}.png'.format(epoch))\n",
        "  plt.show()"
      ],
      "execution_count": null,
      "outputs": []
    },
    {
      "cell_type": "code",
      "metadata": {
        "id": "VqFg2Wi9jFHr"
      },
      "source": [
        "assert batch_size >= num_examples_to_generate\r\n",
        "for test_batch in test_dataset.take(1):\r\n",
        "  test_sample = test_batch[0:num_examples_to_generate, :, :, :]"
      ],
      "execution_count": null,
      "outputs": []
    },
    {
      "cell_type": "code",
      "metadata": {
        "id": "V5bm_X9XjGVt"
      },
      "source": [
        "generate_and_save_images(model, 0, test_sample)\r\n",
        "\r\n",
        "for epoch in range(1, epochs + 1):\r\n",
        "  start_time = time.time()\r\n",
        "  for train_x in train_dataset:\r\n",
        "    train_step(model, train_x, optimizer)\r\n",
        "  end_time = time.time()\r\n",
        "\r\n",
        "  loss = tf.keras.metrics.Mean()\r\n",
        "  for test_x in test_dataset:\r\n",
        "    loss(compute_loss(model, test_x))\r\n",
        "  elbo = -loss.result()\r\n",
        "  display.clear_output(wait=False)\r\n",
        "  print('Epoch: {}, Test set ELBO: {}, time elapse for current epoch: {}'\r\n",
        "        .format(epoch, elbo, end_time - start_time))\r\n",
        "  generate_and_save_images(model, epoch, test_sample)"
      ],
      "execution_count": null,
      "outputs": []
    },
    {
      "cell_type": "code",
      "metadata": {
        "id": "oDW-jAKmjIZf"
      },
      "source": [
        "def display_image(epoch_no):\r\n",
        "  return PIL.Image.open('drive/My Drive/ML/VAE/image_at_epoch_{:04d}.png'.format(epoch_no))"
      ],
      "execution_count": null,
      "outputs": []
    },
    {
      "cell_type": "code",
      "metadata": {
        "id": "u-zmUjQSjJrf"
      },
      "source": [
        "plt.imshow(display_image(epoch))\r\n",
        "plt.axis('off') "
      ],
      "execution_count": null,
      "outputs": []
    },
    {
      "cell_type": "code",
      "metadata": {
        "id": "syJelht4jM21"
      },
      "source": [
        "  anim_file = 'drive/My Drive/MLKaran/VAE/cvae.gif'\r\n",
        "\r\n",
        "  with imageio.get_writer(anim_file, mode='I') as writer:\r\n",
        "    filenames = glob.glob('drive/My Drive/MLKaran/VAE/image*.png')\r\n",
        "    filenames = sorted(filenames)\r\n",
        "    for filename in filenames:\r\n",
        "      image = imageio.imread(filename)\r\n",
        "      writer.append_data(image)\r\n",
        "    image = imageio.imread(filename)\r\n",
        "    writer.append_data(image)"
      ],
      "execution_count": null,
      "outputs": []
    },
    {
      "cell_type": "code",
      "metadata": {
        "id": "wH8vtN2DjOAE"
      },
      "source": [
        "import tensorflow_docs.vis.embed as embed\r\n",
        "embed.embed_file(anim_file)"
      ],
      "execution_count": null,
      "outputs": []
    },
    {
      "cell_type": "code",
      "metadata": {
        "id": "BHRnXLjQjPYR"
      },
      "source": [
        "def plot_latent_images(model, n, digit_size=28):\r\n",
        "  norm = tfp.distributions.Normal(0, 1)\r\n",
        "  grid_x = norm.quantile(np.linspace(0.05, 0.95, n))\r\n",
        "  grid_y = norm.quantile(np.linspace(0.05, 0.95, n))\r\n",
        "  image_width = digit_size*n\r\n",
        "  image_height = image_width\r\n",
        "  image = np.zeros((image_height, image_width))\r\n",
        "\r\n",
        "  for i, yi in enumerate(grid_x):\r\n",
        "    for j, xi in enumerate(grid_y):\r\n",
        "      z = np.array([[xi, yi]])\r\n",
        "      x_decoded = model.sample(z)\r\n",
        "      digit = tf.reshape(x_decoded[0], (digit_size, digit_size))\r\n",
        "      image[i * digit_size: (i + 1) * digit_size,\r\n",
        "            j * digit_size: (j + 1) * digit_size] = digit.numpy()\r\n",
        "\r\n",
        "  plt.figure(figsize=(10, 10))\r\n",
        "  plt.imshow(image, cmap='Greys_r')\r\n",
        "  plt.axis('Off')\r\n",
        "  plt.show()\r\n",
        "\r\n",
        "plot_latent_images(model, 20)"
      ],
      "execution_count": null,
      "outputs": []
    }
  ]
}